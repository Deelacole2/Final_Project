{
 "metadata": {
  "language_info": {
   "codemirror_mode": {
    "name": "ipython",
    "version": 3
   },
   "file_extension": ".py",
   "mimetype": "text/x-python",
   "name": "python",
   "nbconvert_exporter": "python",
   "pygments_lexer": "ipython3",
   "version": "3.7.9"
  },
  "orig_nbformat": 2,
  "kernelspec": {
   "name": "python379jvsc74a57bd08b487bfd70f2475319574becc06470595e0e46cf7bae06d8bbf4aeccb124b5a3",
   "display_name": "Python 3.7.9 64-bit ('PythonData': conda)"
  }
 },
 "nbformat": 4,
 "nbformat_minor": 2,
 "cells": [
  {
   "cell_type": "code",
   "execution_count": 27,
   "metadata": {},
   "outputs": [
    {
     "output_type": "execute_result",
     "data": {
      "text/plain": [
       "             X            Y  FID        ID  \\\n",
       "0 -13318894.76  4346975.444    1   5793230   \n",
       "1 -13226507.27  4049625.553    2  53391362   \n",
       "2 -13156201.05  4031977.723    3  11190023   \n",
       "3 -13171904.89  4041752.386    4  17090028   \n",
       "4 -13132075.10  4037269.759    5  23691706   \n",
       "\n",
       "                                                NAME  \\\n",
       "0                    CENTRAL VALLEY GENERAL HOSPITAL   \n",
       "1  LOS ROBLES HOSPITAL & MEDICAL CENTER - EAST CA...   \n",
       "2                  EAST LOS ANGELES DOCTORS HOSPITAL   \n",
       "3          SOUTHERN CALIFORNIA HOSPITAL AT HOLLYWOOD   \n",
       "4                      KINDRED HOSPITAL BALDWIN PARK   \n",
       "\n",
       "                     ADDRESS             CITY STATE    ZIP           ZIP4  \\\n",
       "0    1025 NORTH DOUTY STREET          HANFORD    CA  93230  NOT AVAILABLE   \n",
       "1             150 VIA MERIDA  WESTLAKE VILAGE    CA  91362  NOT AVAILABLE   \n",
       "2    4060 WHITTIER BOULEVARD      LOS ANGELES    CA  90023  NOT AVAILABLE   \n",
       "3     6245 DE LONGPRE AVENUE        HOLLYWOOD    CA  90028  NOT AVAILABLE   \n",
       "4  14148 FRANCISQUITO AVENUE     BALDWIN PARK    CA  91706  NOT AVAILABLE   \n",
       "\n",
       "   ...        VAL_DATE                           WEBSITE       STATE_ID  \\\n",
       "0  ...  2/10/2014 0:00      http://www.hanfordhealth.com  NOT AVAILABLE   \n",
       "1  ...  2/10/2014 0:00  http://www.losrobleshospital.com  NOT AVAILABLE   \n",
       "2  ...  2/10/2014 0:00             http://www.elalax.com  NOT AVAILABLE   \n",
       "3  ...  2/10/2014 0:00         http://sch-hollywood.com/  NOT AVAILABLE   \n",
       "4  ...  2/10/2014 0:00      http://www.khbaldwinpark.com  NOT AVAILABLE   \n",
       "\n",
       "                                    ALT_NAME ST_FIPS        OWNER TTL_STAFF  \\\n",
       "0                              NOT AVAILABLE       6  PROPRIETARY      -999   \n",
       "1                              NOT AVAILABLE       6  PROPRIETARY      -999   \n",
       "2                              NOT AVAILABLE       6  PROPRIETARY      -999   \n",
       "3  HOLLYWOOD COMMUNITY HOSPITAL OF HOLLYWOOD       6  PROPRIETARY      -999   \n",
       "4                              NOT AVAILABLE       6  PROPRIETARY      -999   \n",
       "\n",
       "   BEDS         TRAUMA  HELIPAD  \n",
       "0    49  NOT AVAILABLE        N  \n",
       "1    62  NOT AVAILABLE        N  \n",
       "2   127  NOT AVAILABLE        N  \n",
       "3   100  NOT AVAILABLE        N  \n",
       "4    95  NOT AVAILABLE        N  \n",
       "\n",
       "[5 rows x 34 columns]"
      ],
      "text/html": "<div>\n<style scoped>\n    .dataframe tbody tr th:only-of-type {\n        vertical-align: middle;\n    }\n\n    .dataframe tbody tr th {\n        vertical-align: top;\n    }\n\n    .dataframe thead th {\n        text-align: right;\n    }\n</style>\n<table border=\"1\" class=\"dataframe\">\n  <thead>\n    <tr style=\"text-align: right;\">\n      <th></th>\n      <th>X</th>\n      <th>Y</th>\n      <th>FID</th>\n      <th>ID</th>\n      <th>NAME</th>\n      <th>ADDRESS</th>\n      <th>CITY</th>\n      <th>STATE</th>\n      <th>ZIP</th>\n      <th>ZIP4</th>\n      <th>...</th>\n      <th>VAL_DATE</th>\n      <th>WEBSITE</th>\n      <th>STATE_ID</th>\n      <th>ALT_NAME</th>\n      <th>ST_FIPS</th>\n      <th>OWNER</th>\n      <th>TTL_STAFF</th>\n      <th>BEDS</th>\n      <th>TRAUMA</th>\n      <th>HELIPAD</th>\n    </tr>\n  </thead>\n  <tbody>\n    <tr>\n      <th>0</th>\n      <td>-13318894.76</td>\n      <td>4346975.444</td>\n      <td>1</td>\n      <td>5793230</td>\n      <td>CENTRAL VALLEY GENERAL HOSPITAL</td>\n      <td>1025 NORTH DOUTY STREET</td>\n      <td>HANFORD</td>\n      <td>CA</td>\n      <td>93230</td>\n      <td>NOT AVAILABLE</td>\n      <td>...</td>\n      <td>2/10/2014 0:00</td>\n      <td>http://www.hanfordhealth.com</td>\n      <td>NOT AVAILABLE</td>\n      <td>NOT AVAILABLE</td>\n      <td>6</td>\n      <td>PROPRIETARY</td>\n      <td>-999</td>\n      <td>49</td>\n      <td>NOT AVAILABLE</td>\n      <td>N</td>\n    </tr>\n    <tr>\n      <th>1</th>\n      <td>-13226507.27</td>\n      <td>4049625.553</td>\n      <td>2</td>\n      <td>53391362</td>\n      <td>LOS ROBLES HOSPITAL &amp; MEDICAL CENTER - EAST CA...</td>\n      <td>150 VIA MERIDA</td>\n      <td>WESTLAKE VILAGE</td>\n      <td>CA</td>\n      <td>91362</td>\n      <td>NOT AVAILABLE</td>\n      <td>...</td>\n      <td>2/10/2014 0:00</td>\n      <td>http://www.losrobleshospital.com</td>\n      <td>NOT AVAILABLE</td>\n      <td>NOT AVAILABLE</td>\n      <td>6</td>\n      <td>PROPRIETARY</td>\n      <td>-999</td>\n      <td>62</td>\n      <td>NOT AVAILABLE</td>\n      <td>N</td>\n    </tr>\n    <tr>\n      <th>2</th>\n      <td>-13156201.05</td>\n      <td>4031977.723</td>\n      <td>3</td>\n      <td>11190023</td>\n      <td>EAST LOS ANGELES DOCTORS HOSPITAL</td>\n      <td>4060 WHITTIER BOULEVARD</td>\n      <td>LOS ANGELES</td>\n      <td>CA</td>\n      <td>90023</td>\n      <td>NOT AVAILABLE</td>\n      <td>...</td>\n      <td>2/10/2014 0:00</td>\n      <td>http://www.elalax.com</td>\n      <td>NOT AVAILABLE</td>\n      <td>NOT AVAILABLE</td>\n      <td>6</td>\n      <td>PROPRIETARY</td>\n      <td>-999</td>\n      <td>127</td>\n      <td>NOT AVAILABLE</td>\n      <td>N</td>\n    </tr>\n    <tr>\n      <th>3</th>\n      <td>-13171904.89</td>\n      <td>4041752.386</td>\n      <td>4</td>\n      <td>17090028</td>\n      <td>SOUTHERN CALIFORNIA HOSPITAL AT HOLLYWOOD</td>\n      <td>6245 DE LONGPRE AVENUE</td>\n      <td>HOLLYWOOD</td>\n      <td>CA</td>\n      <td>90028</td>\n      <td>NOT AVAILABLE</td>\n      <td>...</td>\n      <td>2/10/2014 0:00</td>\n      <td>http://sch-hollywood.com/</td>\n      <td>NOT AVAILABLE</td>\n      <td>HOLLYWOOD COMMUNITY HOSPITAL OF HOLLYWOOD</td>\n      <td>6</td>\n      <td>PROPRIETARY</td>\n      <td>-999</td>\n      <td>100</td>\n      <td>NOT AVAILABLE</td>\n      <td>N</td>\n    </tr>\n    <tr>\n      <th>4</th>\n      <td>-13132075.10</td>\n      <td>4037269.759</td>\n      <td>5</td>\n      <td>23691706</td>\n      <td>KINDRED HOSPITAL BALDWIN PARK</td>\n      <td>14148 FRANCISQUITO AVENUE</td>\n      <td>BALDWIN PARK</td>\n      <td>CA</td>\n      <td>91706</td>\n      <td>NOT AVAILABLE</td>\n      <td>...</td>\n      <td>2/10/2014 0:00</td>\n      <td>http://www.khbaldwinpark.com</td>\n      <td>NOT AVAILABLE</td>\n      <td>NOT AVAILABLE</td>\n      <td>6</td>\n      <td>PROPRIETARY</td>\n      <td>-999</td>\n      <td>95</td>\n      <td>NOT AVAILABLE</td>\n      <td>N</td>\n    </tr>\n  </tbody>\n</table>\n<p>5 rows × 34 columns</p>\n</div>"
     },
     "metadata": {},
     "execution_count": 27
    }
   ],
   "source": [
    "# Dependecy import\n",
    "import pandas as pd\n",
    "\n",
    "# File to Load (Remember to change the path if needed.)\n",
    "data_to_load = \"Resources/us_hospital_locations.csv\"\n",
    "\n",
    "hospital_info_df = pd.read_csv(data_to_load)\n",
    "\n",
    "hospital_info_df.head()"
   ]
  },
  {
   "cell_type": "code",
   "execution_count": 28,
   "metadata": {},
   "outputs": [
    {
     "output_type": "stream",
     "name": "stdout",
     "text": [
      "(7596, 34)\n"
     ]
    },
    {
     "output_type": "execute_result",
     "data": {
      "text/plain": [
       "Index(['X', 'Y', 'FID', 'ID', 'NAME', 'ADDRESS', 'CITY', 'STATE', 'ZIP',\n",
       "       'ZIP4', 'TELEPHONE', 'TYPE', 'STATUS', 'POPULATION', 'COUNTY',\n",
       "       'COUNTYFIPS', 'COUNTRY', 'LATITUDE', 'LONGITUDE', 'NAICS_CODE',\n",
       "       'NAICS_DESC', 'SOURCE', 'SOURCEDATE', 'VAL_METHOD', 'VAL_DATE',\n",
       "       'WEBSITE', 'STATE_ID', 'ALT_NAME', 'ST_FIPS', 'OWNER', 'TTL_STAFF',\n",
       "       'BEDS', 'TRAUMA', 'HELIPAD'],\n",
       "      dtype='object')"
      ]
     },
     "metadata": {},
     "execution_count": 28
    }
   ],
   "source": [
    "# Basic EDA to see what we have\n",
    "print(hospital_info_df.shape)\n",
    "hospital_info_df.columns"
   ]
  },
  {
   "cell_type": "code",
   "execution_count": 29,
   "metadata": {},
   "outputs": [
    {
     "output_type": "execute_result",
     "data": {
      "text/plain": [
       "X             7596\n",
       "Y             7596\n",
       "FID           7596\n",
       "ID            7596\n",
       "NAME          7596\n",
       "ADDRESS       7596\n",
       "CITY          7596\n",
       "STATE         7596\n",
       "ZIP           7596\n",
       "ZIP4          7596\n",
       "TELEPHONE     7596\n",
       "TYPE          7596\n",
       "STATUS        7596\n",
       "POPULATION    7596\n",
       "COUNTY        7596\n",
       "COUNTYFIPS    7596\n",
       "COUNTRY       7596\n",
       "LATITUDE      7596\n",
       "LONGITUDE     7596\n",
       "NAICS_CODE    7596\n",
       "NAICS_DESC    7596\n",
       "SOURCE        7596\n",
       "SOURCEDATE    7596\n",
       "VAL_METHOD    7596\n",
       "VAL_DATE      7596\n",
       "WEBSITE       7596\n",
       "STATE_ID      7596\n",
       "ALT_NAME      7596\n",
       "ST_FIPS       7596\n",
       "OWNER         7596\n",
       "TTL_STAFF     7596\n",
       "BEDS          7596\n",
       "TRAUMA        7596\n",
       "HELIPAD       7596\n",
       "dtype: int64"
      ]
     },
     "metadata": {},
     "execution_count": 29
    }
   ],
   "source": [
    "hospital_info_df.count()"
   ]
  },
  {
   "cell_type": "code",
   "execution_count": 30,
   "metadata": {},
   "outputs": [
    {
     "output_type": "execute_result",
     "data": {
      "text/plain": [
       "X             7594\n",
       "Y             7595\n",
       "FID           7596\n",
       "ID            7596\n",
       "NAME          7342\n",
       "ADDRESS       7470\n",
       "CITY          3373\n",
       "STATE           57\n",
       "ZIP           5640\n",
       "ZIP4           111\n",
       "TELEPHONE     6338\n",
       "TYPE            10\n",
       "STATUS           2\n",
       "POPULATION     718\n",
       "COUNTY        1605\n",
       "COUNTYFIPS    2577\n",
       "COUNTRY          7\n",
       "LATITUDE      7595\n",
       "LONGITUDE     7594\n",
       "NAICS_CODE       3\n",
       "NAICS_DESC      17\n",
       "SOURCE         101\n",
       "SOURCEDATE     100\n",
       "VAL_METHOD       2\n",
       "VAL_DATE       287\n",
       "WEBSITE       6658\n",
       "STATE_ID      3512\n",
       "ALT_NAME       867\n",
       "ST_FIPS         57\n",
       "OWNER            8\n",
       "TTL_STAFF        1\n",
       "BEDS           728\n",
       "TRAUMA          34\n",
       "HELIPAD          2\n",
       "dtype: int64"
      ]
     },
     "metadata": {},
     "execution_count": 30
    }
   ],
   "source": [
    "# Determine the number of unique values in each column.\n",
    "unique_values = hospital_info_df.nunique()\n",
    "unique_values"
   ]
  },
  {
   "cell_type": "code",
   "execution_count": 31,
   "metadata": {},
   "outputs": [
    {
     "output_type": "stream",
     "name": "stdout",
     "text": [
      "(7513, 34)\n"
     ]
    },
    {
     "output_type": "execute_result",
     "data": {
      "text/plain": [
       "                 X            Y   FID         ID  \\\n",
       "0    -1.331889e+07  4346975.444     1    5793230   \n",
       "1    -1.322651e+07  4049625.553     2   53391362   \n",
       "2    -1.315620e+07  4031977.723     3   11190023   \n",
       "3    -1.317190e+07  4041752.386     4   17090028   \n",
       "4    -1.313208e+07  4037269.759     5   23691706   \n",
       "...            ...          ...   ...        ...   \n",
       "7591 -8.566905e+06  4728815.188  7607  183520904   \n",
       "7592 -1.219624e+07  3676930.915  7608  192185607   \n",
       "7593 -8.084677e+06  5094111.618  7609  196706457   \n",
       "7594 -8.522423e+06  4718511.932  7610  191021401   \n",
       "7595 -1.244921e+07  4976467.837  7611  196784108   \n",
       "\n",
       "                                                   NAME  \\\n",
       "0                       CENTRAL VALLEY GENERAL HOSPITAL   \n",
       "1     LOS ROBLES HOSPITAL & MEDICAL CENTER - EAST CA...   \n",
       "2                     EAST LOS ANGELES DOCTORS HOSPITAL   \n",
       "3             SOUTHERN CALIFORNIA HOSPITAL AT HOLLYWOOD   \n",
       "4                         KINDRED HOSPITAL BALDWIN PARK   \n",
       "...                                                 ...   \n",
       "7591      ADVENTIST HEALTHCARE WHITE OAK MEDICAL CENTER   \n",
       "7592          COPPER QUEEN DOUGLAS EMERGENCY DEPARTMENT   \n",
       "7593                          WHITING FORENSIC HOSPITAL   \n",
       "7594                 J KENT MCNEW FAMILY MEDICAL CENTER   \n",
       "7595                      UNIVERSITY ORTHOPAEDIC CENTER   \n",
       "\n",
       "                         ADDRESS             CITY STATE    ZIP           ZIP4  \\\n",
       "0        1025 NORTH DOUTY STREET          HANFORD    CA  93230  NOT AVAILABLE   \n",
       "1                 150 VIA MERIDA  WESTLAKE VILAGE    CA  91362  NOT AVAILABLE   \n",
       "2        4060 WHITTIER BOULEVARD      LOS ANGELES    CA  90023  NOT AVAILABLE   \n",
       "3         6245 DE LONGPRE AVENUE        HOLLYWOOD    CA  90028  NOT AVAILABLE   \n",
       "4      14148 FRANCISQUITO AVENUE     BALDWIN PARK    CA  91706  NOT AVAILABLE   \n",
       "...                          ...              ...   ...    ...            ...   \n",
       "7591           11890 HEALING WAY    SILVER SPRING    MD  20904  NOT AVAILABLE   \n",
       "7592           100 E. 5TH STREET          DOUGLAS    AZ  85607  NOT AVAILABLE   \n",
       "7593                70 OBRIEN DR       MIDDLETOWN    CT   6457           3945   \n",
       "7594  175 HARRY S TRUMAN PARKWAY        ANNAPOLIS    MD  21401  NOT AVAILABLE   \n",
       "7595              590 WAKARA WAY   SALT LAKE CITY    UT  84108  NOT AVAILABLE   \n",
       "\n",
       "      ...        VAL_DATE                                            WEBSITE  \\\n",
       "0     ...  2/10/2014 0:00                       http://www.hanfordhealth.com   \n",
       "1     ...  2/10/2014 0:00                   http://www.losrobleshospital.com   \n",
       "2     ...  2/10/2014 0:00                              http://www.elalax.com   \n",
       "3     ...  2/10/2014 0:00                          http://sch-hollywood.com/   \n",
       "4     ...  2/10/2014 0:00                       http://www.khbaldwinpark.com   \n",
       "...   ...             ...                                                ...   \n",
       "7591  ...   5/5/2020 0:00  https://www.adventisthealthcare.com/locations/...   \n",
       "7592  ...   5/5/2020 0:00  https://cqch.org/cqch-clinics/copper-queen-dou...   \n",
       "7593  ...   5/8/2020 0:00  https://portal.ct.gov/dmhas/wfh/whiting-forens...   \n",
       "7594  ...   5/5/2020 0:00  https://aahs.org/locations/j--kent-mcnew-famil...   \n",
       "7595  ...   5/5/2020 0:00          https://healthcare.utah.edu/orthopaedics/   \n",
       "\n",
       "           STATE_ID                                   ALT_NAME ST_FIPS  \\\n",
       "0     NOT AVAILABLE                              NOT AVAILABLE       6   \n",
       "1     NOT AVAILABLE                              NOT AVAILABLE       6   \n",
       "2     NOT AVAILABLE                              NOT AVAILABLE       6   \n",
       "3     NOT AVAILABLE  HOLLYWOOD COMMUNITY HOSPITAL OF HOLLYWOOD       6   \n",
       "4     NOT AVAILABLE                              NOT AVAILABLE       6   \n",
       "...             ...                                        ...     ...   \n",
       "7591  NOT AVAILABLE                              NOT AVAILABLE      24   \n",
       "7592  NOT AVAILABLE                              NOT AVAILABLE       4   \n",
       "7593  NOT AVAILABLE                              NOT AVAILABLE       9   \n",
       "7594  NOT AVAILABLE                              NOT AVAILABLE      24   \n",
       "7595  NOT AVAILABLE                              NOT AVAILABLE      49   \n",
       "\n",
       "                   OWNER TTL_STAFF  BEDS         TRAUMA  HELIPAD  \n",
       "0            PROPRIETARY      -999    49  NOT AVAILABLE        N  \n",
       "1            PROPRIETARY      -999    62  NOT AVAILABLE        N  \n",
       "2            PROPRIETARY      -999   127  NOT AVAILABLE        N  \n",
       "3            PROPRIETARY      -999   100  NOT AVAILABLE        N  \n",
       "4            PROPRIETARY      -999    95  NOT AVAILABLE        N  \n",
       "...                  ...       ...   ...            ...      ...  \n",
       "7591          NON-PROFIT      -999   178  NOT AVAILABLE        N  \n",
       "7592          NON-PROFIT      -999  -999       LEVEL IV        N  \n",
       "7593  GOVERNMENT - STATE      -999   229  NOT AVAILABLE        N  \n",
       "7594          NON-PROFIT      -999  -999  NOT AVAILABLE        N  \n",
       "7595  GOVERNMENT - STATE      -999  -999  NOT AVAILABLE        N  \n",
       "\n",
       "[7513 rows x 34 columns]"
      ],
      "text/html": "<div>\n<style scoped>\n    .dataframe tbody tr th:only-of-type {\n        vertical-align: middle;\n    }\n\n    .dataframe tbody tr th {\n        vertical-align: top;\n    }\n\n    .dataframe thead th {\n        text-align: right;\n    }\n</style>\n<table border=\"1\" class=\"dataframe\">\n  <thead>\n    <tr style=\"text-align: right;\">\n      <th></th>\n      <th>X</th>\n      <th>Y</th>\n      <th>FID</th>\n      <th>ID</th>\n      <th>NAME</th>\n      <th>ADDRESS</th>\n      <th>CITY</th>\n      <th>STATE</th>\n      <th>ZIP</th>\n      <th>ZIP4</th>\n      <th>...</th>\n      <th>VAL_DATE</th>\n      <th>WEBSITE</th>\n      <th>STATE_ID</th>\n      <th>ALT_NAME</th>\n      <th>ST_FIPS</th>\n      <th>OWNER</th>\n      <th>TTL_STAFF</th>\n      <th>BEDS</th>\n      <th>TRAUMA</th>\n      <th>HELIPAD</th>\n    </tr>\n  </thead>\n  <tbody>\n    <tr>\n      <th>0</th>\n      <td>-1.331889e+07</td>\n      <td>4346975.444</td>\n      <td>1</td>\n      <td>5793230</td>\n      <td>CENTRAL VALLEY GENERAL HOSPITAL</td>\n      <td>1025 NORTH DOUTY STREET</td>\n      <td>HANFORD</td>\n      <td>CA</td>\n      <td>93230</td>\n      <td>NOT AVAILABLE</td>\n      <td>...</td>\n      <td>2/10/2014 0:00</td>\n      <td>http://www.hanfordhealth.com</td>\n      <td>NOT AVAILABLE</td>\n      <td>NOT AVAILABLE</td>\n      <td>6</td>\n      <td>PROPRIETARY</td>\n      <td>-999</td>\n      <td>49</td>\n      <td>NOT AVAILABLE</td>\n      <td>N</td>\n    </tr>\n    <tr>\n      <th>1</th>\n      <td>-1.322651e+07</td>\n      <td>4049625.553</td>\n      <td>2</td>\n      <td>53391362</td>\n      <td>LOS ROBLES HOSPITAL &amp; MEDICAL CENTER - EAST CA...</td>\n      <td>150 VIA MERIDA</td>\n      <td>WESTLAKE VILAGE</td>\n      <td>CA</td>\n      <td>91362</td>\n      <td>NOT AVAILABLE</td>\n      <td>...</td>\n      <td>2/10/2014 0:00</td>\n      <td>http://www.losrobleshospital.com</td>\n      <td>NOT AVAILABLE</td>\n      <td>NOT AVAILABLE</td>\n      <td>6</td>\n      <td>PROPRIETARY</td>\n      <td>-999</td>\n      <td>62</td>\n      <td>NOT AVAILABLE</td>\n      <td>N</td>\n    </tr>\n    <tr>\n      <th>2</th>\n      <td>-1.315620e+07</td>\n      <td>4031977.723</td>\n      <td>3</td>\n      <td>11190023</td>\n      <td>EAST LOS ANGELES DOCTORS HOSPITAL</td>\n      <td>4060 WHITTIER BOULEVARD</td>\n      <td>LOS ANGELES</td>\n      <td>CA</td>\n      <td>90023</td>\n      <td>NOT AVAILABLE</td>\n      <td>...</td>\n      <td>2/10/2014 0:00</td>\n      <td>http://www.elalax.com</td>\n      <td>NOT AVAILABLE</td>\n      <td>NOT AVAILABLE</td>\n      <td>6</td>\n      <td>PROPRIETARY</td>\n      <td>-999</td>\n      <td>127</td>\n      <td>NOT AVAILABLE</td>\n      <td>N</td>\n    </tr>\n    <tr>\n      <th>3</th>\n      <td>-1.317190e+07</td>\n      <td>4041752.386</td>\n      <td>4</td>\n      <td>17090028</td>\n      <td>SOUTHERN CALIFORNIA HOSPITAL AT HOLLYWOOD</td>\n      <td>6245 DE LONGPRE AVENUE</td>\n      <td>HOLLYWOOD</td>\n      <td>CA</td>\n      <td>90028</td>\n      <td>NOT AVAILABLE</td>\n      <td>...</td>\n      <td>2/10/2014 0:00</td>\n      <td>http://sch-hollywood.com/</td>\n      <td>NOT AVAILABLE</td>\n      <td>HOLLYWOOD COMMUNITY HOSPITAL OF HOLLYWOOD</td>\n      <td>6</td>\n      <td>PROPRIETARY</td>\n      <td>-999</td>\n      <td>100</td>\n      <td>NOT AVAILABLE</td>\n      <td>N</td>\n    </tr>\n    <tr>\n      <th>4</th>\n      <td>-1.313208e+07</td>\n      <td>4037269.759</td>\n      <td>5</td>\n      <td>23691706</td>\n      <td>KINDRED HOSPITAL BALDWIN PARK</td>\n      <td>14148 FRANCISQUITO AVENUE</td>\n      <td>BALDWIN PARK</td>\n      <td>CA</td>\n      <td>91706</td>\n      <td>NOT AVAILABLE</td>\n      <td>...</td>\n      <td>2/10/2014 0:00</td>\n      <td>http://www.khbaldwinpark.com</td>\n      <td>NOT AVAILABLE</td>\n      <td>NOT AVAILABLE</td>\n      <td>6</td>\n      <td>PROPRIETARY</td>\n      <td>-999</td>\n      <td>95</td>\n      <td>NOT AVAILABLE</td>\n      <td>N</td>\n    </tr>\n    <tr>\n      <th>...</th>\n      <td>...</td>\n      <td>...</td>\n      <td>...</td>\n      <td>...</td>\n      <td>...</td>\n      <td>...</td>\n      <td>...</td>\n      <td>...</td>\n      <td>...</td>\n      <td>...</td>\n      <td>...</td>\n      <td>...</td>\n      <td>...</td>\n      <td>...</td>\n      <td>...</td>\n      <td>...</td>\n      <td>...</td>\n      <td>...</td>\n      <td>...</td>\n      <td>...</td>\n      <td>...</td>\n    </tr>\n    <tr>\n      <th>7591</th>\n      <td>-8.566905e+06</td>\n      <td>4728815.188</td>\n      <td>7607</td>\n      <td>183520904</td>\n      <td>ADVENTIST HEALTHCARE WHITE OAK MEDICAL CENTER</td>\n      <td>11890 HEALING WAY</td>\n      <td>SILVER SPRING</td>\n      <td>MD</td>\n      <td>20904</td>\n      <td>NOT AVAILABLE</td>\n      <td>...</td>\n      <td>5/5/2020 0:00</td>\n      <td>https://www.adventisthealthcare.com/locations/...</td>\n      <td>NOT AVAILABLE</td>\n      <td>NOT AVAILABLE</td>\n      <td>24</td>\n      <td>NON-PROFIT</td>\n      <td>-999</td>\n      <td>178</td>\n      <td>NOT AVAILABLE</td>\n      <td>N</td>\n    </tr>\n    <tr>\n      <th>7592</th>\n      <td>-1.219624e+07</td>\n      <td>3676930.915</td>\n      <td>7608</td>\n      <td>192185607</td>\n      <td>COPPER QUEEN DOUGLAS EMERGENCY DEPARTMENT</td>\n      <td>100 E. 5TH STREET</td>\n      <td>DOUGLAS</td>\n      <td>AZ</td>\n      <td>85607</td>\n      <td>NOT AVAILABLE</td>\n      <td>...</td>\n      <td>5/5/2020 0:00</td>\n      <td>https://cqch.org/cqch-clinics/copper-queen-dou...</td>\n      <td>NOT AVAILABLE</td>\n      <td>NOT AVAILABLE</td>\n      <td>4</td>\n      <td>NON-PROFIT</td>\n      <td>-999</td>\n      <td>-999</td>\n      <td>LEVEL IV</td>\n      <td>N</td>\n    </tr>\n    <tr>\n      <th>7593</th>\n      <td>-8.084677e+06</td>\n      <td>5094111.618</td>\n      <td>7609</td>\n      <td>196706457</td>\n      <td>WHITING FORENSIC HOSPITAL</td>\n      <td>70 OBRIEN DR</td>\n      <td>MIDDLETOWN</td>\n      <td>CT</td>\n      <td>6457</td>\n      <td>3945</td>\n      <td>...</td>\n      <td>5/8/2020 0:00</td>\n      <td>https://portal.ct.gov/dmhas/wfh/whiting-forens...</td>\n      <td>NOT AVAILABLE</td>\n      <td>NOT AVAILABLE</td>\n      <td>9</td>\n      <td>GOVERNMENT - STATE</td>\n      <td>-999</td>\n      <td>229</td>\n      <td>NOT AVAILABLE</td>\n      <td>N</td>\n    </tr>\n    <tr>\n      <th>7594</th>\n      <td>-8.522423e+06</td>\n      <td>4718511.932</td>\n      <td>7610</td>\n      <td>191021401</td>\n      <td>J KENT MCNEW FAMILY MEDICAL CENTER</td>\n      <td>175 HARRY S TRUMAN PARKWAY</td>\n      <td>ANNAPOLIS</td>\n      <td>MD</td>\n      <td>21401</td>\n      <td>NOT AVAILABLE</td>\n      <td>...</td>\n      <td>5/5/2020 0:00</td>\n      <td>https://aahs.org/locations/j--kent-mcnew-famil...</td>\n      <td>NOT AVAILABLE</td>\n      <td>NOT AVAILABLE</td>\n      <td>24</td>\n      <td>NON-PROFIT</td>\n      <td>-999</td>\n      <td>-999</td>\n      <td>NOT AVAILABLE</td>\n      <td>N</td>\n    </tr>\n    <tr>\n      <th>7595</th>\n      <td>-1.244921e+07</td>\n      <td>4976467.837</td>\n      <td>7611</td>\n      <td>196784108</td>\n      <td>UNIVERSITY ORTHOPAEDIC CENTER</td>\n      <td>590 WAKARA WAY</td>\n      <td>SALT LAKE CITY</td>\n      <td>UT</td>\n      <td>84108</td>\n      <td>NOT AVAILABLE</td>\n      <td>...</td>\n      <td>5/5/2020 0:00</td>\n      <td>https://healthcare.utah.edu/orthopaedics/</td>\n      <td>NOT AVAILABLE</td>\n      <td>NOT AVAILABLE</td>\n      <td>49</td>\n      <td>GOVERNMENT - STATE</td>\n      <td>-999</td>\n      <td>-999</td>\n      <td>NOT AVAILABLE</td>\n      <td>N</td>\n    </tr>\n  </tbody>\n</table>\n<p>7513 rows × 34 columns</p>\n</div>"
     },
     "metadata": {},
     "execution_count": 31
    }
   ],
   "source": [
    "# Dropping all non-USA rows from the country column\n",
    "hospital_info_df = hospital_info_df[hospital_info_df[\"COUNTRY\"] == 'USA']\n",
    "print(hospital_info_df.shape)\n",
    "hospital_info_df"
   ]
  },
  {
   "cell_type": "code",
   "execution_count": 32,
   "metadata": {},
   "outputs": [
    {
     "output_type": "execute_result",
     "data": {
      "text/plain": [
       "(7513, 27)"
      ]
     },
     "metadata": {},
     "execution_count": 32
    }
   ],
   "source": [
    "# Removing unneccesary columns\n",
    "hospital_info_df = hospital_info_df.drop(['TTL_STAFF', 'SOURCE', 'VAL_METHOD', 'VAL_DATE', 'WEBSITE', 'STATE_ID', 'ALT_NAME'], axis=1)\n",
    "hospital_info_df.shape"
   ]
  },
  {
   "cell_type": "code",
   "execution_count": null,
   "metadata": {},
   "outputs": [],
   "source": []
  }
 ]
}