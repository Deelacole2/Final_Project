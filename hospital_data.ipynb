{
 "metadata": {
  "language_info": {
   "codemirror_mode": {
    "name": "ipython",
    "version": 3
   },
   "file_extension": ".py",
   "mimetype": "text/x-python",
   "name": "python",
   "nbconvert_exporter": "python",
   "pygments_lexer": "ipython3",
   "version": "3.7.9"
  },
  "orig_nbformat": 2,
  "kernelspec": {
   "name": "python379jvsc74a57bd08b487bfd70f2475319574becc06470595e0e46cf7bae06d8bbf4aeccb124b5a3",
   "display_name": "Python 3.7.9 64-bit ('PythonData': conda)"
  }
 },
 "nbformat": 4,
 "nbformat_minor": 2,
 "cells": [
  {
   "cell_type": "code",
   "execution_count": 1,
   "metadata": {},
   "outputs": [
    {
     "output_type": "execute_result",
     "data": {
      "text/plain": [
       "              X             Y  FID        ID  \\\n",
       "0 -1.331889e+07  4.346975e+06    1   5793230   \n",
       "1 -1.322651e+07  4.049626e+06    2  53391362   \n",
       "2 -1.315620e+07  4.031978e+06    3  11190023   \n",
       "3 -1.317190e+07  4.041752e+06    4  17090028   \n",
       "4 -1.313208e+07  4.037270e+06    5  23691706   \n",
       "\n",
       "                                                NAME  \\\n",
       "0                    CENTRAL VALLEY GENERAL HOSPITAL   \n",
       "1  LOS ROBLES HOSPITAL & MEDICAL CENTER - EAST CA...   \n",
       "2                  EAST LOS ANGELES DOCTORS HOSPITAL   \n",
       "3          SOUTHERN CALIFORNIA HOSPITAL AT HOLLYWOOD   \n",
       "4                      KINDRED HOSPITAL BALDWIN PARK   \n",
       "\n",
       "                     ADDRESS             CITY STATE    ZIP           ZIP4  \\\n",
       "0    1025 NORTH DOUTY STREET          HANFORD    CA  93230  NOT AVAILABLE   \n",
       "1             150 VIA MERIDA  WESTLAKE VILAGE    CA  91362  NOT AVAILABLE   \n",
       "2    4060 WHITTIER BOULEVARD      LOS ANGELES    CA  90023  NOT AVAILABLE   \n",
       "3     6245 DE LONGPRE AVENUE        HOLLYWOOD    CA  90028  NOT AVAILABLE   \n",
       "4  14148 FRANCISQUITO AVENUE     BALDWIN PARK    CA  91706  NOT AVAILABLE   \n",
       "\n",
       "   ...             VAL_DATE                           WEBSITE       STATE_ID  \\\n",
       "0  ...  2014/02/10 00:00:00      http://www.hanfordhealth.com  NOT AVAILABLE   \n",
       "1  ...  2014/02/10 00:00:00  http://www.losrobleshospital.com  NOT AVAILABLE   \n",
       "2  ...  2014/02/10 00:00:00             http://www.elalax.com  NOT AVAILABLE   \n",
       "3  ...  2014/02/10 00:00:00         http://sch-hollywood.com/  NOT AVAILABLE   \n",
       "4  ...  2014/02/10 00:00:00      http://www.khbaldwinpark.com  NOT AVAILABLE   \n",
       "\n",
       "                                    ALT_NAME ST_FIPS        OWNER TTL_STAFF  \\\n",
       "0                              NOT AVAILABLE       6  PROPRIETARY      -999   \n",
       "1                              NOT AVAILABLE       6  PROPRIETARY      -999   \n",
       "2                              NOT AVAILABLE       6  PROPRIETARY      -999   \n",
       "3  HOLLYWOOD COMMUNITY HOSPITAL OF HOLLYWOOD       6  PROPRIETARY      -999   \n",
       "4                              NOT AVAILABLE       6  PROPRIETARY      -999   \n",
       "\n",
       "   BEDS         TRAUMA  HELIPAD  \n",
       "0    49  NOT AVAILABLE        N  \n",
       "1    62  NOT AVAILABLE        N  \n",
       "2   127  NOT AVAILABLE        N  \n",
       "3   100  NOT AVAILABLE        N  \n",
       "4    95  NOT AVAILABLE        N  \n",
       "\n",
       "[5 rows x 34 columns]"
      ],
      "text/html": "<div>\n<style scoped>\n    .dataframe tbody tr th:only-of-type {\n        vertical-align: middle;\n    }\n\n    .dataframe tbody tr th {\n        vertical-align: top;\n    }\n\n    .dataframe thead th {\n        text-align: right;\n    }\n</style>\n<table border=\"1\" class=\"dataframe\">\n  <thead>\n    <tr style=\"text-align: right;\">\n      <th></th>\n      <th>X</th>\n      <th>Y</th>\n      <th>FID</th>\n      <th>ID</th>\n      <th>NAME</th>\n      <th>ADDRESS</th>\n      <th>CITY</th>\n      <th>STATE</th>\n      <th>ZIP</th>\n      <th>ZIP4</th>\n      <th>...</th>\n      <th>VAL_DATE</th>\n      <th>WEBSITE</th>\n      <th>STATE_ID</th>\n      <th>ALT_NAME</th>\n      <th>ST_FIPS</th>\n      <th>OWNER</th>\n      <th>TTL_STAFF</th>\n      <th>BEDS</th>\n      <th>TRAUMA</th>\n      <th>HELIPAD</th>\n    </tr>\n  </thead>\n  <tbody>\n    <tr>\n      <th>0</th>\n      <td>-1.331889e+07</td>\n      <td>4.346975e+06</td>\n      <td>1</td>\n      <td>5793230</td>\n      <td>CENTRAL VALLEY GENERAL HOSPITAL</td>\n      <td>1025 NORTH DOUTY STREET</td>\n      <td>HANFORD</td>\n      <td>CA</td>\n      <td>93230</td>\n      <td>NOT AVAILABLE</td>\n      <td>...</td>\n      <td>2014/02/10 00:00:00</td>\n      <td>http://www.hanfordhealth.com</td>\n      <td>NOT AVAILABLE</td>\n      <td>NOT AVAILABLE</td>\n      <td>6</td>\n      <td>PROPRIETARY</td>\n      <td>-999</td>\n      <td>49</td>\n      <td>NOT AVAILABLE</td>\n      <td>N</td>\n    </tr>\n    <tr>\n      <th>1</th>\n      <td>-1.322651e+07</td>\n      <td>4.049626e+06</td>\n      <td>2</td>\n      <td>53391362</td>\n      <td>LOS ROBLES HOSPITAL &amp; MEDICAL CENTER - EAST CA...</td>\n      <td>150 VIA MERIDA</td>\n      <td>WESTLAKE VILAGE</td>\n      <td>CA</td>\n      <td>91362</td>\n      <td>NOT AVAILABLE</td>\n      <td>...</td>\n      <td>2014/02/10 00:00:00</td>\n      <td>http://www.losrobleshospital.com</td>\n      <td>NOT AVAILABLE</td>\n      <td>NOT AVAILABLE</td>\n      <td>6</td>\n      <td>PROPRIETARY</td>\n      <td>-999</td>\n      <td>62</td>\n      <td>NOT AVAILABLE</td>\n      <td>N</td>\n    </tr>\n    <tr>\n      <th>2</th>\n      <td>-1.315620e+07</td>\n      <td>4.031978e+06</td>\n      <td>3</td>\n      <td>11190023</td>\n      <td>EAST LOS ANGELES DOCTORS HOSPITAL</td>\n      <td>4060 WHITTIER BOULEVARD</td>\n      <td>LOS ANGELES</td>\n      <td>CA</td>\n      <td>90023</td>\n      <td>NOT AVAILABLE</td>\n      <td>...</td>\n      <td>2014/02/10 00:00:00</td>\n      <td>http://www.elalax.com</td>\n      <td>NOT AVAILABLE</td>\n      <td>NOT AVAILABLE</td>\n      <td>6</td>\n      <td>PROPRIETARY</td>\n      <td>-999</td>\n      <td>127</td>\n      <td>NOT AVAILABLE</td>\n      <td>N</td>\n    </tr>\n    <tr>\n      <th>3</th>\n      <td>-1.317190e+07</td>\n      <td>4.041752e+06</td>\n      <td>4</td>\n      <td>17090028</td>\n      <td>SOUTHERN CALIFORNIA HOSPITAL AT HOLLYWOOD</td>\n      <td>6245 DE LONGPRE AVENUE</td>\n      <td>HOLLYWOOD</td>\n      <td>CA</td>\n      <td>90028</td>\n      <td>NOT AVAILABLE</td>\n      <td>...</td>\n      <td>2014/02/10 00:00:00</td>\n      <td>http://sch-hollywood.com/</td>\n      <td>NOT AVAILABLE</td>\n      <td>HOLLYWOOD COMMUNITY HOSPITAL OF HOLLYWOOD</td>\n      <td>6</td>\n      <td>PROPRIETARY</td>\n      <td>-999</td>\n      <td>100</td>\n      <td>NOT AVAILABLE</td>\n      <td>N</td>\n    </tr>\n    <tr>\n      <th>4</th>\n      <td>-1.313208e+07</td>\n      <td>4.037270e+06</td>\n      <td>5</td>\n      <td>23691706</td>\n      <td>KINDRED HOSPITAL BALDWIN PARK</td>\n      <td>14148 FRANCISQUITO AVENUE</td>\n      <td>BALDWIN PARK</td>\n      <td>CA</td>\n      <td>91706</td>\n      <td>NOT AVAILABLE</td>\n      <td>...</td>\n      <td>2014/02/10 00:00:00</td>\n      <td>http://www.khbaldwinpark.com</td>\n      <td>NOT AVAILABLE</td>\n      <td>NOT AVAILABLE</td>\n      <td>6</td>\n      <td>PROPRIETARY</td>\n      <td>-999</td>\n      <td>95</td>\n      <td>NOT AVAILABLE</td>\n      <td>N</td>\n    </tr>\n  </tbody>\n</table>\n<p>5 rows × 34 columns</p>\n</div>"
     },
     "metadata": {},
     "execution_count": 1
    }
   ],
   "source": [
    "# Dependecy import\n",
    "import pandas as pd\n",
    "\n",
    "# File to Load (Remember to change the path if needed.)\n",
    "data_to_load = \"Resources/us_hospital_locations.csv\"\n",
    "\n",
    "hospital_info_df = pd.read_csv(data_to_load)\n",
    "\n",
    "hospital_info_df.head()"
   ]
  },
  {
   "cell_type": "code",
   "execution_count": 10,
   "metadata": {},
   "outputs": [
    {
     "output_type": "stream",
     "name": "stdout",
     "text": [
      "(7596, 34)\n"
     ]
    },
    {
     "output_type": "execute_result",
     "data": {
      "text/plain": [
       "Index(['X', 'Y', 'FID', 'ID', 'NAME', 'ADDRESS', 'CITY', 'STATE', 'ZIP',\n",
       "       'ZIP4', 'TELEPHONE', 'TYPE', 'STATUS', 'POPULATION', 'COUNTY',\n",
       "       'COUNTYFIPS', 'COUNTRY', 'LATITUDE', 'LONGITUDE', 'NAICS_CODE',\n",
       "       'NAICS_DESC', 'SOURCE', 'SOURCEDATE', 'VAL_METHOD', 'VAL_DATE',\n",
       "       'WEBSITE', 'STATE_ID', 'ALT_NAME', 'ST_FIPS', 'OWNER', 'TTL_STAFF',\n",
       "       'BEDS', 'TRAUMA', 'HELIPAD'],\n",
       "      dtype='object')"
      ]
     },
     "metadata": {},
     "execution_count": 10
    }
   ],
   "source": [
    "# Basic EDA to see what we have\n",
    "print(hospital_info_df.shape)\n",
    "hospital_info_df.columns"
   ]
  },
  {
   "cell_type": "code",
   "execution_count": null,
   "metadata": {},
   "outputs": [],
   "source": []
  },
  {
   "cell_type": "code",
   "execution_count": 11,
   "metadata": {},
   "outputs": [
    {
     "output_type": "execute_result",
     "data": {
      "text/plain": [
       "X             7594\n",
       "Y             7595\n",
       "FID           7596\n",
       "ID            7596\n",
       "NAME          7342\n",
       "ADDRESS       7470\n",
       "CITY          3373\n",
       "STATE           57\n",
       "ZIP           5640\n",
       "ZIP4           111\n",
       "TELEPHONE     6338\n",
       "TYPE            10\n",
       "STATUS           2\n",
       "POPULATION     718\n",
       "COUNTY        1605\n",
       "COUNTYFIPS    2577\n",
       "COUNTRY          7\n",
       "LATITUDE      7595\n",
       "LONGITUDE     7594\n",
       "NAICS_CODE       3\n",
       "NAICS_DESC      17\n",
       "SOURCE         101\n",
       "SOURCEDATE     100\n",
       "VAL_METHOD       2\n",
       "VAL_DATE       287\n",
       "WEBSITE       6658\n",
       "STATE_ID      3516\n",
       "ALT_NAME       867\n",
       "ST_FIPS         57\n",
       "OWNER            8\n",
       "TTL_STAFF        1\n",
       "BEDS           728\n",
       "TRAUMA          34\n",
       "HELIPAD          2\n",
       "dtype: int64"
      ]
     },
     "metadata": {},
     "execution_count": 11
    }
   ],
   "source": [
    "# Determine the number of unique values in each column.\n",
    "unique_values = hospital_info_df.nunique()\n",
    "unique_values"
   ]
  },
  {
   "cell_type": "code",
   "execution_count": null,
   "metadata": {},
   "outputs": [],
   "source": [
    "# Drop the non-beneficial ID columns, 'EIN' and 'NAME'.\n",
    "hospital_df = application_df.drop(['EIN', 'NAME'], axis=1)\n",
    "application_df"
   ]
  }
 ]
}