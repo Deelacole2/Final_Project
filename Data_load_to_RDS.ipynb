{
  "nbformat": 4,
  "nbformat_minor": 0,
  "metadata": {
    "colab": {
      "name": "Copy of Data_load_to_RDS.ipynb",
      "provenance": [],
      "authorship_tag": "ABX9TyPA5862EPhpW/B93hzSDdE2",
      "include_colab_link": true
    },
    "kernelspec": {
      "name": "python3",
      "display_name": "Python 3"
    },
    "language_info": {
      "name": "python"
    }
  },
  "cells": [
    {
      "cell_type": "markdown",
      "metadata": {
        "id": "view-in-github",
        "colab_type": "text"
      },
      "source": [
        "<a href=\"https://colab.research.google.com/github/Deelacole2/Final_Project/blob/feature%2FDatabase/Data_load_to_RDS.ipynb\" target=\"_parent\"><img src=\"https://colab.research.google.com/assets/colab-badge.svg\" alt=\"Open In Colab\"/></a>"
      ]
    },
    {
      "cell_type": "code",
      "metadata": {
        "colab": {
          "base_uri": "https://localhost:8080/"
        },
        "id": "WB5qFYTtGdls",
        "outputId": "63cd731e-8c99-42e3-b23d-4db03cf0b0f0"
      },
      "source": [
        "import os\n",
        "# Find the latest version of spark 3.0  from http://www-us.apache.org/dist/spark/ and enter as the spark version\n",
        "# For example:\n",
        "spark_version = 'spark-3.1.1'\n",
        "#spark_version = 'spark-3.<enter version>'\n",
        "os.environ['SPARK_VERSION']=spark_version\n",
        "\n",
        "# Install Spark and Java\n",
        "!apt-get update\n",
        "!apt-get install openjdk-11-jdk-headless -qq > /dev/null\n",
        "!wget -q http://www-us.apache.org/dist/spark/$SPARK_VERSION/$SPARK_VERSION-bin-hadoop2.7.tgz\n",
        "!tar xf $SPARK_VERSION-bin-hadoop2.7.tgz\n",
        "!pip install -q findspark\n",
        "\n",
        "# Set Environment Variables\n",
        "os.environ[\"JAVA_HOME\"] = \"/usr/lib/jvm/java-11-openjdk-amd64\"\n",
        "os.environ[\"SPARK_HOME\"] = f\"/content/{spark_version}-bin-hadoop2.7\"\n",
        "\n",
        "# Start a SparkSession\n",
        "import findspark\n",
        "findspark.init()\n"
      ],
      "execution_count": null,
      "outputs": [
        {
          "output_type": "stream",
          "text": [
            "\r0% [Working]\r            \rIgn:1 https://developer.download.nvidia.com/compute/cuda/repos/ubuntu1804/x86_64  InRelease\n",
            "\r0% [Connecting to archive.ubuntu.com] [Connecting to security.ubuntu.com] [Conn\r                                                                               \rIgn:2 https://developer.download.nvidia.com/compute/machine-learning/repos/ubuntu1804/x86_64  InRelease\n",
            "\r0% [Connecting to archive.ubuntu.com] [Connecting to security.ubuntu.com] [Conn\r                                                                               \rGet:3 https://developer.download.nvidia.com/compute/cuda/repos/ubuntu1804/x86_64  Release [697 B]\n",
            "\r0% [Connecting to archive.ubuntu.com] [Connecting to security.ubuntu.com] [Conn\r0% [Connecting to archive.ubuntu.com] [Connecting to security.ubuntu.com] [Conn\r                                                                               \rHit:4 https://developer.download.nvidia.com/compute/machine-learning/repos/ubuntu1804/x86_64  Release\n",
            "\r0% [Connecting to archive.ubuntu.com] [Connecting to security.ubuntu.com] [Conn\r0% [Release.gpg gpgv 564 B] [Connecting to archive.ubuntu.com] [Connecting to s\r                                                                               \rGet:5 https://cloud.r-project.org/bin/linux/ubuntu bionic-cran40/ InRelease [3,626 B]\n",
            "Get:6 https://developer.download.nvidia.com/compute/cuda/repos/ubuntu1804/x86_64  Release.gpg [836 B]\n",
            "Get:7 http://ppa.launchpad.net/c2d4u.team/c2d4u4.0+/ubuntu bionic InRelease [15.9 kB]\n",
            "Get:8 http://security.ubuntu.com/ubuntu bionic-security InRelease [88.7 kB]\n",
            "Hit:10 http://archive.ubuntu.com/ubuntu bionic InRelease\n",
            "Get:11 http://archive.ubuntu.com/ubuntu bionic-updates InRelease [88.7 kB]\n",
            "Get:12 https://cloud.r-project.org/bin/linux/ubuntu bionic-cran40/ Packages [55.5 kB]\n",
            "Hit:13 http://ppa.launchpad.net/cran/libgit2/ubuntu bionic InRelease\n",
            "Ign:14 https://developer.download.nvidia.com/compute/cuda/repos/ubuntu1804/x86_64  Packages\n",
            "Get:14 https://developer.download.nvidia.com/compute/cuda/repos/ubuntu1804/x86_64  Packages [770 kB]\n",
            "Hit:15 http://ppa.launchpad.net/deadsnakes/ppa/ubuntu bionic InRelease\n",
            "Get:16 http://archive.ubuntu.com/ubuntu bionic-backports InRelease [74.6 kB]\n",
            "Get:17 http://ppa.launchpad.net/graphics-drivers/ppa/ubuntu bionic InRelease [21.3 kB]\n",
            "Get:18 http://ppa.launchpad.net/c2d4u.team/c2d4u4.0+/ubuntu bionic/main Sources [1,759 kB]\n",
            "Get:19 http://archive.ubuntu.com/ubuntu bionic-updates/universe amd64 Packages [2,182 kB]\n",
            "Get:20 http://archive.ubuntu.com/ubuntu bionic-updates/main amd64 Packages [2,550 kB]\n",
            "Get:21 http://ppa.launchpad.net/c2d4u.team/c2d4u4.0+/ubuntu bionic/main amd64 Packages [900 kB]\n",
            "Get:22 http://ppa.launchpad.net/graphics-drivers/ppa/ubuntu bionic/main amd64 Packages [49.5 kB]\n",
            "Fetched 8,561 kB in 4s (2,010 kB/s)\n",
            "Reading package lists... Done\n"
          ],
          "name": "stdout"
        }
      ]
    },
    {
      "cell_type": "code",
      "metadata": {
        "colab": {
          "base_uri": "https://localhost:8080/"
        },
        "id": "VymqBVkTH2GB",
        "outputId": "bc97baa8-4bee-4639-a5ac-0c0c12dc3c82"
      },
      "source": [
        "!wget https://jdbc.postgresql.org/download/postgresql-42.2.9.jar"
      ],
      "execution_count": null,
      "outputs": [
        {
          "output_type": "stream",
          "text": [
            "--2021-05-08 01:16:29--  https://jdbc.postgresql.org/download/postgresql-42.2.9.jar\n",
            "Resolving jdbc.postgresql.org (jdbc.postgresql.org)... 72.32.157.228, 2001:4800:3e1:1::228\n",
            "Connecting to jdbc.postgresql.org (jdbc.postgresql.org)|72.32.157.228|:443... connected.\n",
            "HTTP request sent, awaiting response... 200 OK\n",
            "Length: 914037 (893K) [application/java-archive]\n",
            "Saving to: ‘postgresql-42.2.9.jar’\n",
            "\n",
            "postgresql-42.2.9.j 100%[===================>] 892.61K  5.48MB/s    in 0.2s    \n",
            "\n",
            "2021-05-08 01:16:30 (5.48 MB/s) - ‘postgresql-42.2.9.jar’ saved [914037/914037]\n",
            "\n"
          ],
          "name": "stdout"
        }
      ]
    },
    {
      "cell_type": "code",
      "metadata": {
        "id": "2LlQlKIY2X0c"
      },
      "source": [
        "from pyspark.sql import SparkSession\n",
        "spark = SparkSession.builder.appName(\"CloudETL\").config(\"spark.driver.extraClassPath\",\"/content/postgresql-42.2.9.jar\").getOrCreate()"
      ],
      "execution_count": null,
      "outputs": []
    },
    {
      "cell_type": "code",
      "metadata": {
        "colab": {
          "base_uri": "https://localhost:8080/"
        },
        "id": "lLZ0ALvLIJdC",
        "outputId": "ae4711c8-8647-4db7-848e-06ed71aca84e"
      },
      "source": [
        "# Read in data from S3 Buckets\n",
        "from pyspark import SparkFiles\n",
        "url=\"https://yellowteambucket.s3.us-east-2.amazonaws.com/hosp_addr.csv\"\n",
        "spark.sparkContext.addFile(url)\n",
        "hosp_addr_df = spark.read.csv(SparkFiles.get(\"hosp_addr.csv\"), sep=\",\", header=True, inferSchema=True)\n",
        "\n",
        "# Show DataFrame\n",
        "hosp_addr_df.show()"
      ],
      "execution_count": null,
      "outputs": [
        {
          "output_type": "stream",
          "text": [
            "+---+--------------------+---------------+-----+-----+-----------+-----------+-------------------+\n",
            "|fid|             address|           city|state|  zip|     county|   latitude|          longitude|\n",
            "+---+--------------------+---------------+-----+-----+-----------+-----------+-------------------+\n",
            "|  2|      150 VIA MERIDA|WESTLAKE VILAGE|   CA|91362|    VENTURA|34.15493887|       -118.8157364|\n",
            "|  3|4060 WHITTIER BOU...|    LOS ANGELES|   CA|90023|LOS ANGELES| 34.0236473|       -118.1841648|\n",
            "|  4|6245 DE LONGPRE A...|      HOLLYWOOD|   CA|90028|LOS ANGELES|34.09639136|-118.32523490000001|\n",
            "|  5|14148 FRANCISQUIT...|   BALDWIN PARK|   CA|91706|LOS ANGELES|34.06303893|       -117.9674378|\n",
            "|  6|3700 EAST SOUTH S...|       LAKEWOOD|   CA|90712|LOS ANGELES|33.85970662|        -118.148403|\n",
            "|  7|323 SOUTH HELIOTR...|       MONROVIA|   CA|91016|LOS ANGELES|34.14875866|-117.99266770000001|\n",
            "|  8|900 SOUTH ATLANTI...|  MONTEREY PARK|   CA|91754|LOS ANGELES|34.04946606|       -118.1382622|\n",
            "| 10| 730 MAGNOLIA AVENUE|         CORONA|   CA|92879|  RIVERSIDE|33.85808331|        -117.553858|\n",
            "| 11|228 MC DOWELL STREET|        ALTURAS|   CA|96101|      MODOC|41.48005626|        -120.545744|\n",
            "| 12| 450 EAST ROMIE LANE|        SALINAS|   CA|93901|   MONTEREY|36.65903046|       -121.6459838|\n",
            "| 15|  14851 YORBA STREET|         TUSTIN|   CA|92680|     ORANGE|33.74746074|-117.83105559999998|\n",
            "| 16|875 NORTH BREA BO...|           BREA|   CA|92621|     ORANGE|33.93449589|-117.89394879999999|\n",
            "| 17| 200 HOSPITAL CIRCLE|    WESTMINSTER|   CA|92683|     ORANGE|33.76353321|-117.99525600000001|\n",
            "| 18|1100 SO. AKERS ST...|        VISALIA|   CA|93277|     TULARE|36.32084395|       -119.3482345|\n",
            "| 20|    600 N LEWIS AVE.|     NEW IBERIA|   LA|70563|     IBERIA|30.00690698|       -91.79452385|\n",
            "| 21|  1100 EAST LOOP 304|       CROCKETT|   TX|77954|    HOUSTON|31.32360364|       -95.43889931|\n",
            "| 23|          409 1ST ST|        BERNICE|   LA|71222|      UNION|32.82399167|       -92.65664868|\n",
            "| 26|    7939 HIGHWAY 165|       COLUMBIA|   LA|71418|   CALDWELL|32.06003995|       -92.09913767|\n",
            "| 28| 2776 PACIFIC AVENUE|     LONG BEACH|   CA|90806|LOS ANGELES|33.80709287|       -118.1933899|\n",
            "| 29|  2500 MERCED STREET|    SAN LEANDRO|   CA|94577|    ALAMEDA| 37.7064062|       -122.1646545|\n",
            "+---+--------------------+---------------+-----+-----+-----------+-----------+-------------------+\n",
            "only showing top 20 rows\n",
            "\n"
          ],
          "name": "stdout"
        }
      ]
    },
    {
      "cell_type": "code",
      "metadata": {
        "colab": {
          "base_uri": "https://localhost:8080/"
        },
        "id": "wWgX6t2zIJZF",
        "outputId": "95319716-df24-46df-ab3d-5d20f052e869"
      },
      "source": [
        "url=\"https://yellowteambucket.s3.us-east-2.amazonaws.com/hosp_closures.csv\"\n",
        "spark.sparkContext.addFile(url)\n",
        "hosp_closures_df = spark.read.csv(SparkFiles.get(\"hosp_closures.csv\"), sep=\",\", header=True, inferSchema=True)\n",
        "\n",
        "# Show DataFrame\n",
        "hosp_closures_df.show()"
      ],
      "execution_count": null,
      "outputs": [
        {
          "output_type": "stream",
          "text": [
            "+--------------------+--------------------+-----------+-----+-----+-------+----------------+--------------+-------------+------------+\n",
            "|            hospital|             address|       city|state|  zip|   cbsa|medicare_payment|number_of_beds|closure_month|closure_year|\n",
            "+--------------------+--------------------+-----------+-----+-----+-------+----------------+--------------+-------------+------------+\n",
            "|Jellico Medical C...|   188 HOSPITAL LANE|    JELLICO|   TN|37762|  Metro|             PPS|            54|     November|        2020|\n",
            "|Perry Community H...|2718 Squirrel Hol...|     Linden|   TN|37096|Neither|             PPS|            25|     November|        2020|\n",
            "|Acoma-Canonocito-...|   80B Veterans Blvd|      Acoma|   NM|87034|  Micro|             IHS|             6|     November|        2020|\n",
            "|Northridge Medica...|70 Medical Center Dr|   Commerce|   GA|30529|  Micro|             PPS|            27|      October|        2020|\n",
            "|Southwest Georgia...|     361 Randolph St|   Cuthbert|   GA|39840|Neither|             CAH|            25|      October|        2020|\n",
            "|Shands Lake Shore...|  368 NE FRANKLIN ST|  LAKE CITY|   FL|32055|  Micro|             PPS|            87|       August|        2020|\n",
            "|Cumberland River ...|100 OLD JEFFERSON ST|     Celina|   TN|38551|Neither|             PPS|             1|       August|        2020|\n",
            "|Bluefield Regiona...|       500 Cherry St|  Bluefield|   WV|24701|  Micro|             MDH|            57|         July|        2020|\n",
            "|St. Luke's Cushin...|     711 Marshall St|Leavenworth|   KS|66048|  Metro|             PPS|            24|         July|        2020|\n",
            "|Shands Live Oak R...|     1100 SW 11th St|   Live Oak|   FL|32060|Neither|             CAH|            25|        April|        2020|\n",
            "|Shands Starke Reg...|       922 E Call St|     Starke|   FL|32091|Neither|             CAH|            25|        April|        2020|\n",
            "|Williamson Memori...|     859 Alderson St| Williamson|   WV|25661|Neither|             PPS|            27|        April|        2020|\n",
            "|Decatur County Ge...| 969 Tennessee Ave S|    Parsons|   TN|38363|Neither|             MDH|            40|        April|        2020|\n",
            "|Sumner Community ...| 1323 North A Street| Wellington|   KS|67152|  Metro|             PPS|            42|        March|        2020|\n",
            "|Edward W. McCread...|        201 Hall Hwy|  Crisfield|   MD|21817|  Metro|             PPS|             3|        March|        2020|\n",
            "|Mayo Clinic Healt...|   625 Jackson Ave N|Springfield|   MN|56087|  Micro|             CAH|            24|        March|        2020|\n",
            "|Central Hospital ...| 705 E Greenwood Ave|      Bowie|   TX|76230|Neither|             MDH|            37|     February|        2020|\n",
            "|UPMC Susquehanna ...|       350 N 11th St|    Sunbury|   PA|17801|  Micro|             MDH|            70|      January|        2020|\n",
            "|Mountain View Reg...|310 Third Street, NE|     Norton|   VA|24273|  Micro|             PPS|            20|      January|        2020|\n",
            "|Pinnacle Regional...|         17651 Hwy B|  Boonville|   MO|65233|Neither|             PPS|            46|      January|        2020|\n",
            "+--------------------+--------------------+-----------+-----+-----+-------+----------------+--------------+-------------+------------+\n",
            "only showing top 20 rows\n",
            "\n"
          ],
          "name": "stdout"
        }
      ]
    },
    {
      "cell_type": "code",
      "metadata": {
        "colab": {
          "base_uri": "https://localhost:8080/"
        },
        "id": "eukIk93FIJVu",
        "outputId": "a2d16dfa-c6cb-424e-fc42-e218eb62659f"
      },
      "source": [
        "url=\"https://yellowteambucket.s3.us-east-2.amazonaws.com/hosp_metric.csv\"\n",
        "spark.sparkContext.addFile(url)\n",
        "hosp_metric_df = spark.read.csv(SparkFiles.get(\"hosp_metric.csv\"), sep=\",\", header=True, inferSchema=True)\n",
        "\n",
        "# Show DataFrame\n",
        "hosp_metric_df.show()"
      ],
      "execution_count": null,
      "outputs": [
        {
          "output_type": "stream",
          "text": [
            "+--------------------+---------+-------+---------------+-----------------+------------------+------------------+\n",
            "|               state|stateabbr| deaths|population_2019|deaths_per_100000|death_to_pop_ratio|avg_cost_of_living|\n",
            "+--------------------+---------+-------+---------------+-----------------+------------------+------------------+\n",
            "|        Alabama (01)|       AL| 54,108|      4,903,185|         1,103.50|             1.10%|             89.33|\n",
            "|         Alaska (02)|       AK|  4,613|        731,545|            630.6|             0.63%|              99.4|\n",
            "|        Arizona (04)|       AZ| 60,236|      7,278,717|            827.6|             0.83%|             99.69|\n",
            "|       Arkansas (05)|       AR| 32,888|      3,017,804|         1,089.80|             1.09%|              88.3|\n",
            "|     California (06)|       CA|269,831|     39,512,223|            682.9|             0.68%|            126.27|\n",
            "|       Colorado (08)|       CO| 39,390|      5,758,736|              684|             0.68%|            106.56|\n",
            "|    Connecticut (09)|       CT| 31,745|      3,565,287|            890.4|             0.89%|            111.62|\n",
            "|       Delaware (10)|       DE|  9,302|        973,764|            955.3|             0.96%|              97.3|\n",
            "|District of Colum...|       DC|  4,927|        705,749|            698.1|             0.70%|             101.3|\n",
            "|        Florida (12)|       FL|207,002|     21,477,737|            963.8|             0.96%|            100.86|\n",
            "|        Georgia (13)|       GA| 85,814|     10,617,423|            808.2|             0.81%|             94.82|\n",
            "|         Hawaii (15)|       HI| 11,559|      1,415,872|            816.4|             0.82%|            143.23|\n",
            "|          Idaho (16)|       ID| 14,430|      1,787,065|            807.5|             0.81%|             92.17|\n",
            "|       Illinois (17)|       IL|109,096|     12,671,821|            860.9|             0.86%|              88.8|\n",
            "|        Indiana (18)|       IN| 66,001|      6,732,219|            980.4|             0.98%|             86.74|\n",
            "|           Iowa (19)|       IA| 30,867|      3,155,070|            978.3|             0.98%|             90.64|\n",
            "|         Kansas (20)|       KS| 27,682|      2,913,314|            950.2|             0.95%|             88.12|\n",
            "|       Kentucky (21)|       KY| 48,990|      4,467,673|         1,096.50|             1.10%|             88.09|\n",
            "|      Louisiana (22)|       LA| 45,938|      4,648,794|            988.2|             0.99%|             92.22|\n",
            "|          Maine (23)|       MA| 15,065|      1,344,212|         1,120.70|             1.12%|            111.98|\n",
            "+--------------------+---------+-------+---------------+-----------------+------------------+------------------+\n",
            "only showing top 20 rows\n",
            "\n"
          ],
          "name": "stdout"
        }
      ]
    },
    {
      "cell_type": "code",
      "metadata": {
        "id": "HPLc0TO9gJgX"
      },
      "source": [
        "import pandas as pd\n",
        "\n",
        "hosp_metric_df = hosp_metric_df.withColumn(\"population_2019\", hosp_metric_df.population_2019.cast('int'))\n",
        "hosp_metric_df = hosp_metric_df.withColumn(\"deaths_per_100000\", hosp_metric_df.deaths_per_100000.cast('int'))\n",
        "hosp_metric_df = hosp_metric_df.withColumn(\"deaths\", hosp_metric_df.deaths.cast('int'))\n"
      ],
      "execution_count": null,
      "outputs": []
    },
    {
      "cell_type": "code",
      "metadata": {
        "colab": {
          "base_uri": "https://localhost:8080/"
        },
        "id": "krlWzDfR7P7R",
        "outputId": "8b65e7e7-bedd-4f89-b06a-efdad92daf13"
      },
      "source": [
        "hosp_metric_df.dtypes"
      ],
      "execution_count": null,
      "outputs": [
        {
          "output_type": "execute_result",
          "data": {
            "text/plain": [
              "[('state', 'string'),\n",
              " ('stateabbr', 'string'),\n",
              " ('deaths', 'int'),\n",
              " ('population_2019', 'int'),\n",
              " ('deaths_per_100000', 'int'),\n",
              " ('death_to_pop_ratio', 'string'),\n",
              " ('avg_cost_of_living', 'double')]"
            ]
          },
          "metadata": {
            "tags": []
          },
          "execution_count": 14
        }
      ]
    },
    {
      "cell_type": "code",
      "metadata": {
        "colab": {
          "base_uri": "https://localhost:8080/"
        },
        "id": "xk6evo3QIJSa",
        "outputId": "71f16832-ebdb-4dda-e1e9-e93df21263aa"
      },
      "source": [
        "url=\"https://yellowteambucket.s3.us-east-2.amazonaws.com/hospital_popup.csv\"\n",
        "spark.sparkContext.addFile(url)\n",
        "hospital_popup_df = spark.read.csv(SparkFiles.get(\"hospital_popup.csv\"), sep=\",\", header=True, inferSchema=True)\n",
        "\n",
        "# Show DataFrame\n",
        "hospital_popup_df.show()"
      ],
      "execution_count": null,
      "outputs": [
        {
          "output_type": "stream",
          "text": [
            "+---+--------------------+---------------+-----+-----------+------+------------------+\n",
            "|fid|                name|           city|state|     county|status|              type|\n",
            "+---+--------------------+---------------+-----+-----------+------+------------------+\n",
            "|  2|LOS ROBLES HOSPIT...|WESTLAKE VILAGE|   CA|    VENTURA|  OPEN|GENERAL ACUTE CARE|\n",
            "|  3|EAST LOS ANGELES ...|    LOS ANGELES|   CA|LOS ANGELES|  OPEN|GENERAL ACUTE CARE|\n",
            "|  4|SOUTHERN CALIFORN...|      HOLLYWOOD|   CA|LOS ANGELES|  OPEN|GENERAL ACUTE CARE|\n",
            "|  5|KINDRED HOSPITAL ...|   BALDWIN PARK|   CA|LOS ANGELES|  OPEN|GENERAL ACUTE CARE|\n",
            "|  6|LAKEWOOD REGIONAL...|       LAKEWOOD|   CA|LOS ANGELES|  OPEN|GENERAL ACUTE CARE|\n",
            "|  7|MONROVIA MEMORIAL...|       MONROVIA|   CA|LOS ANGELES|  OPEN|GENERAL ACUTE CARE|\n",
            "|  8|MONTEREY PARK HOS...|  MONTEREY PARK|   CA|LOS ANGELES|  OPEN|GENERAL ACUTE CARE|\n",
            "| 10|CORONA REGIONAL M...|         CORONA|   CA|  RIVERSIDE|  OPEN|GENERAL ACUTE CARE|\n",
            "| 11|MODOC MEDICAL CENTER|        ALTURAS|   CA|      MODOC|  OPEN|GENERAL ACUTE CARE|\n",
            "| 12|SALINAS VALLEY ME...|        SALINAS|   CA|   MONTEREY|  OPEN|GENERAL ACUTE CARE|\n",
            "| 15|HEALTHSOUTH TUSTI...|         TUSTIN|   CA|     ORANGE|  OPEN|GENERAL ACUTE CARE|\n",
            "| 16|KINDRED HOSPITAL ...|           BREA|   CA|     ORANGE|  OPEN|GENERAL ACUTE CARE|\n",
            "| 17|KINDRED HOSPITAL ...|    WESTMINSTER|   CA|     ORANGE|  OPEN|GENERAL ACUTE CARE|\n",
            "| 18|KAWEAH DELTA MENT...|        VISALIA|   CA|     TULARE|  OPEN|GENERAL ACUTE CARE|\n",
            "| 20|  DAUTERIVE HOSPITAL|     NEW IBERIA|   LA|     IBERIA|  OPEN|GENERAL ACUTE CARE|\n",
            "| 21|CROCKETT MEDICAL ...|       CROCKETT|   TX|    HOUSTON|  OPEN|GENERAL ACUTE CARE|\n",
            "| 23|REEVES MEMORIAL M...|        BERNICE|   LA|      UNION|  OPEN|GENERAL ACUTE CARE|\n",
            "| 26|CITIZENS MEDICAL ...|       COLUMBIA|   LA|   CALDWELL|  OPEN|GENERAL ACUTE CARE|\n",
            "| 28|COLLEGE MEDICAL C...|     LONG BEACH|   CA|LOS ANGELES|  OPEN|GENERAL ACUTE CARE|\n",
            "| 29|KAISER FOUNDATION...|    SAN LEANDRO|   CA|    ALAMEDA|  OPEN|GENERAL ACUTE CARE|\n",
            "+---+--------------------+---------------+-----+-----------+------+------------------+\n",
            "only showing top 20 rows\n",
            "\n"
          ],
          "name": "stdout"
        }
      ]
    },
    {
      "cell_type": "code",
      "metadata": {
        "colab": {
          "base_uri": "https://localhost:8080/"
        },
        "id": "QTo2lygZIJIP",
        "outputId": "4f07b3f3-bbf6-4ee2-df71-54e1bba07768"
      },
      "source": [
        "# Loading the svi data\n",
        "\n",
        "url=\"https://yellowteambucket.s3.us-east-2.amazonaws.com/svi_data.csv\"\n",
        "spark.sparkContext.addFile(url)\n",
        "svi_data_df = spark.read.csv(SparkFiles.get(\"svi_data.csv\"), sep=\",\", header=True, inferSchema=True)\n",
        "\n",
        "# Show DataFrame\n",
        "svi_data_df.show()"
      ],
      "execution_count": null,
      "outputs": [
        {
          "output_type": "stream",
          "text": [
            "+-------+-------+----------+----+--------------------+-----------------+------+---------+\n",
            "|  state|st_abbr|    county|fips|            location|        area_sqmi|   svi|total_pop|\n",
            "+-------+-------+----------+----+--------------------+-----------------+------+---------+\n",
            "|ALABAMA|     AL|   Autauga|1001|Autauga County, A...|      594.4434589|0.4354|    55200|\n",
            "|ALABAMA|     AL|    Blount|1009|Blount County, Al...|644.8304602000001|0.4242|    57645|\n",
            "|ALABAMA|     AL|    Butler|1013|Butler County, Al...|      776.8382008|0.8653|    20025|\n",
            "|ALABAMA|     AL|   Calhoun|1015|Calhoun County, A...|      605.8672514|0.8252|   115098|\n",
            "|ALABAMA|     AL|  Chambers|1017|Chambers County, ...|596.5606429999999|0.7382|    33826|\n",
            "|ALABAMA|     AL|    Coffee|1031|Coffee County, Al...|678.9858207999999|0.5408|    51288|\n",
            "|ALABAMA|     AL|   Colbert|1033|Colbert County, A...|592.7446865000001|0.4274|    54495|\n",
            "|ALABAMA|     AL| Covington|1039|Covington County,...|      1030.556053|0.7723|    37351|\n",
            "|ALABAMA|     AL|   Cullman|1043|Cullman County, A...|      734.7802988|0.5182|    82313|\n",
            "|ALABAMA|     AL|      Dale|1045|Dale County, Alabama|      561.1006284|0.7599|    49255|\n",
            "|ALABAMA|     AL|    Elmore|1051|Elmore County, Al...|      618.4462511|0.5401|    81212|\n",
            "|ALABAMA|     AL|    Etowah|1055|Etowah County, Al...|535.2816213000001|0.6564|   102939|\n",
            "|ALABAMA|     AL|     Henry|1067|Henry County, Ala...|561.7500782000001|0.5519|    17124|\n",
            "|ALABAMA|     AL|   Houston|1069|Houston County, A...|579.8690621000001|0.6838|   104352|\n",
            "|ALABAMA|     AL|   Jackson|1071|Jackson County, A...|      1077.986767|0.5726|    52094|\n",
            "|ALABAMA|     AL|Lauderdale|1077|Lauderdale County...|      668.0128629|0.4468|    92585|\n",
            "|ALABAMA|     AL|  Lawrence|1079|Lawrence County, ...|      690.6840635|0.4952|    33171|\n",
            "|ALABAMA|     AL| Limestone|1083|Limestone County,...|       559.955192|0.5296|    93052|\n",
            "|ALABAMA|     AL|   Madison|1089|Madison County, A...|      801.5829707|0.3076|   357560|\n",
            "|ALABAMA|     AL|  Marshall|1095|Marshall County, ...|      565.8447822|0.7261|    95145|\n",
            "+-------+-------+----------+----+--------------------+-----------------+------+---------+\n",
            "only showing top 20 rows\n",
            "\n"
          ],
          "name": "stdout"
        }
      ]
    },
    {
      "cell_type": "code",
      "metadata": {
        "colab": {
          "base_uri": "https://localhost:8080/"
        },
        "id": "YkVUEd3CII9c",
        "outputId": "c3a5cd66-7de1-4fe2-f193-7e7f9a1f5809"
      },
      "source": [
        "url=\"https://yellowteambucket.s3.us-east-2.amazonaws.com/us_hospital_locations.csv\"\n",
        "spark.sparkContext.addFile(url)\n",
        "raw_hospital_data = spark.read.csv(SparkFiles.get(\"us_hospital_locations.csv\"), sep=\",\", header=True, inferSchema=True)\n",
        "\n",
        "# Show DataFrame\n",
        "raw_hospital_data.show()"
      ],
      "execution_count": null,
      "outputs": [
        {
          "output_type": "stream",
          "text": [
            "+--------------+-----------+---+--------+--------------------+--------------------+---------------+-----+-----+-------------+--------------+------------------+------+----------+-----------+----------+-------+-----------+------------+----------+--------------------+--------------------+---------------+-------------+--------------+--------------------+-------------+--------------------+-------+--------------------+---------+----+-------------+-------+\n",
            "|             X|          Y|FID|      ID|                NAME|             ADDRESS|           CITY|STATE|  ZIP|         ZIP4|     TELEPHONE|              TYPE|STATUS|POPULATION|     COUNTY|COUNTYFIPS|COUNTRY|   LATITUDE|   LONGITUDE|NAICS_CODE|          NAICS_DESC|              SOURCE|     SOURCEDATE|   VAL_METHOD|      VAL_DATE|             WEBSITE|     STATE_ID|            ALT_NAME|ST_FIPS|               OWNER|TTL_STAFF|BEDS|       TRAUMA|HELIPAD|\n",
            "+--------------+-----------+---+--------+--------------------+--------------------+---------------+-----+-----+-------------+--------------+------------------+------+----------+-----------+----------+-------+-----------+------------+----------+--------------------+--------------------+---------------+-------------+--------------+--------------------+-------------+--------------------+-------+--------------------+---------+----+-------------+-------+\n",
            "|-1.331889476E7|4346975.444|  1| 5793230|CENTRAL VALLEY GE...|1025 NORTH DOUTY ...|        HANFORD|   CA|93230|NOT AVAILABLE| NOT AVAILABLE|GENERAL ACUTE CARE|CLOSED|        49|      KINGS|      6031|    USA|36.33615885|-119.6456673|    622110|GENERAL MEDICAL A...|http://www.oshpd....|  2/4/2016 0:00|IMAGERY/OTHER|2/10/2014 0:00|http://www.hanfor...|NOT AVAILABLE|       NOT AVAILABLE|      6|         PROPRIETARY|     -999|  49|NOT AVAILABLE|      N|\n",
            "|-1.322650727E7|4049625.553|  2|53391362|LOS ROBLES HOSPIT...|      150 VIA MERIDA|WESTLAKE VILAGE|   CA|91362|NOT AVAILABLE| NOT AVAILABLE|GENERAL ACUTE CARE|  OPEN|        62|    VENTURA|      6111|    USA|34.15493887|-118.8157364|    622110|GENERAL MEDICAL A...|http://www.oshpd....|  8/2/2019 0:00|IMAGERY/OTHER|2/10/2014 0:00|http://www.losrob...|NOT AVAILABLE|       NOT AVAILABLE|      6|         PROPRIETARY|     -999|  62|NOT AVAILABLE|      N|\n",
            "|-1.315620105E7|4031977.723|  3|11190023|EAST LOS ANGELES ...|4060 WHITTIER BOU...|    LOS ANGELES|   CA|90023|NOT AVAILABLE| NOT AVAILABLE|GENERAL ACUTE CARE|  OPEN|       127|LOS ANGELES|      6037|    USA| 34.0236473|-118.1841648|    622110|GENERAL MEDICAL A...|http://www.oshpd....|  8/2/2019 0:00|IMAGERY/OTHER|2/10/2014 0:00|http://www.elalax...|NOT AVAILABLE|       NOT AVAILABLE|      6|         PROPRIETARY|     -999| 127|NOT AVAILABLE|      N|\n",
            "|-1.317190489E7|4041752.386|  4|17090028|SOUTHERN CALIFORN...|6245 DE LONGPRE A...|      HOLLYWOOD|   CA|90028|NOT AVAILABLE|(323) 462-2271|GENERAL ACUTE CARE|  OPEN|       100|LOS ANGELES|      6037|    USA|34.09639136|-118.3252349|    622110|GENERAL MEDICAL A...|http://www.oshpd....|  8/2/2019 0:00|IMAGERY/OTHER|2/10/2014 0:00|http://sch-hollyw...|NOT AVAILABLE|HOLLYWOOD COMMUNI...|      6|         PROPRIETARY|     -999| 100|NOT AVAILABLE|      N|\n",
            "| -1.31320751E7|4037269.759|  5|23691706|KINDRED HOSPITAL ...|14148 FRANCISQUIT...|   BALDWIN PARK|   CA|91706|NOT AVAILABLE| NOT AVAILABLE|GENERAL ACUTE CARE|  OPEN|        95|LOS ANGELES|      6037|    USA|34.06303893|-117.9674378|    622110|GENERAL MEDICAL A...|http://www.oshpd....|  8/2/2019 0:00|IMAGERY/OTHER|2/10/2014 0:00|http://www.khbald...|NOT AVAILABLE|       NOT AVAILABLE|      6|         PROPRIETARY|     -999|  95|NOT AVAILABLE|      N|\n",
            "|-1.315222006E7|4009979.573|  6|25190712|LAKEWOOD REGIONAL...|3700 EAST SOUTH S...|       LAKEWOOD|   CA|90712|NOT AVAILABLE| NOT AVAILABLE|GENERAL ACUTE CARE|  OPEN|       172|LOS ANGELES|      6037|    USA|33.85970662| -118.148403|    622110|GENERAL MEDICAL A...|http://www.oshpd....|  8/2/2019 0:00|IMAGERY/OTHER|2/10/2014 0:00|http://www.lakewo...|NOT AVAILABLE|       NOT AVAILABLE|      6|         PROPRIETARY|     -999| 172|NOT AVAILABLE|      N|\n",
            "|-1.313488368E7|4048794.213|  7|30791016|MONROVIA MEMORIAL...|323 SOUTH HELIOTR...|       MONROVIA|   CA|91016|NOT AVAILABLE| NOT AVAILABLE|GENERAL ACUTE CARE|  OPEN|        49|LOS ANGELES|      6037|    USA|34.14875866|-117.9926677|    622110|GENERAL MEDICAL A...|http://www.oshpd....|  8/2/2019 0:00|IMAGERY/OTHER|2/10/2014 0:00|http://www.monrov...|NOT AVAILABLE|       NOT AVAILABLE|      6|         PROPRIETARY|     -999|  49|NOT AVAILABLE|      N|\n",
            "|-1.315109119E7|4035446.045|  8|30891754|MONTEREY PARK HOS...|900 SOUTH ATLANTI...|  MONTEREY PARK|   CA|91754|NOT AVAILABLE| NOT AVAILABLE|GENERAL ACUTE CARE|  OPEN|       101|LOS ANGELES|      6037|    USA|34.04946606|-118.1382622|    622110|GENERAL MEDICAL A...|http://www.oshpd....|  8/2/2019 0:00|IMAGERY/OTHER|2/10/2014 0:00|http://www.monter...|NOT AVAILABLE|       NOT AVAILABLE|      6|         PROPRIETARY|     -999| 101|NOT AVAILABLE|      N|\n",
            "|-1.317534044E7|4005182.476|  9|47090505|STAR VIEW ADOLESC...|4025 WEST 226 STREET|       TORRANCE|   CA|90505|NOT AVAILABLE| NOT AVAILABLE|       PSYCHIATRIC|  OPEN|        16|LOS ANGELES|      6037|    USA|33.82391446|-118.3560969|    622210|PSYCHIATRIC AND S...|http://www.oshpd....|  8/2/2019 0:00|IMAGERY/OTHER|2/10/2014 0:00|http://www.starsi...|NOT AVAILABLE|       NOT AVAILABLE|      6|         PROPRIETARY|     -999|  16|NOT AVAILABLE|      N|\n",
            "|-1.308603562E7|4009761.963| 10| 9092879|CORONA REGIONAL M...| 730 MAGNOLIA AVENUE|         CORONA|   CA|92879|NOT AVAILABLE| NOT AVAILABLE|GENERAL ACUTE CARE|  OPEN|        78|  RIVERSIDE|      6065|    USA|33.85808331| -117.553858|    622110|GENERAL MEDICAL A...|http://www.oshpd....|  8/2/2019 0:00|IMAGERY/OTHER|2/10/2014 0:00|http://www.corona...|NOT AVAILABLE|       NOT AVAILABLE|      6|         PROPRIETARY|     -999|  78|NOT AVAILABLE|      N|\n",
            "|-1.341909084E7|5083409.808| 11|30696101|MODOC MEDICAL CENTER|228 MC DOWELL STREET|        ALTURAS|   CA|96101|NOT AVAILABLE| NOT AVAILABLE|GENERAL ACUTE CARE|  OPEN|        87|      MODOC|      6049|    USA|41.48005626| -120.545744|    622110|GENERAL MEDICAL A...|http://www.oshpd....|  8/2/2019 0:00|IMAGERY/OTHER|2/10/2014 0:00|http://www.modocm...|NOT AVAILABLE|       NOT AVAILABLE|      6|  GOVERNMENT - LOCAL|     -999|  87|NOT AVAILABLE|      Y|\n",
            "|-1.354156897E7|4391685.999| 12|38593901|SALINAS VALLEY ME...| 450 EAST ROMIE LANE|        SALINAS|   CA|93901|NOT AVAILABLE| NOT AVAILABLE|GENERAL ACUTE CARE|  OPEN|       269|   MONTEREY|      6053|    USA|36.65903046|-121.6459838|    622110|GENERAL MEDICAL A...|http://www.oshpd....|  8/2/2019 0:00|IMAGERY/OTHER|2/10/2014 0:00| http://www.svmh.com|NOT AVAILABLE|       NOT AVAILABLE|      6|GOVERNMENT - DIST...|     -999| 269|NOT AVAILABLE|      N|\n",
            "|-1.084209631E7| 3221077.58| 13|12678414|CORPUS CHRISTI SP...|   1310 THIRD STREET| CORPUS CHRISTI|   TX|78414|NOT AVAILABLE|(361) 888-4323|GENERAL ACUTE CARE|CLOSED|       189|     NUECES|     48355|    USA|27.77851017|-97.39620831|    622110|GENERAL MEDICAL A...|http://www.dshs.s...| 9/23/2014 0:00|IMAGERY/OTHER| 5/8/2020 0:00|       NOT AVAILABLE|NOT AVAILABLE|       NOT AVAILABLE|     48|         PROPRIETARY|     -999| 189|NOT AVAILABLE|      Y|\n",
            "|-1.311720884E7|3999664.772| 14|15992866|HEALTHBRIDGE CHIL...|393 S. TUSTIN STREET|         ORANGE|   CA|92866|NOT AVAILABLE| NOT AVAILABLE|          CHILDREN|  OPEN|        27|     ORANGE|      6059|    USA|33.78272717|-117.8338919|    622110|CHILDREN'S HOSPIT...|http://www.oshpd....|  8/2/2019 0:00|IMAGERY/OTHER|2/10/2014 0:00|http://www.health...|NOT AVAILABLE|       NOT AVAILABLE|      6|         PROPRIETARY|     -999|  27|NOT AVAILABLE|      N|\n",
            "|-1.311689311E7|3994942.371| 15|16192680|HEALTHSOUTH TUSTI...|  14851 YORBA STREET|         TUSTIN|   CA|92680|NOT AVAILABLE| NOT AVAILABLE|GENERAL ACUTE CARE|  OPEN|        48|     ORANGE|      6059|    USA|33.74746074|-117.8310556|    622110|GENERAL MEDICAL A...|http://www.oshpd....|  8/2/2019 0:00|IMAGERY/OTHER|2/10/2014 0:00|http://www.tustin...|NOT AVAILABLE|       NOT AVAILABLE|      6|         PROPRIETARY|     -999|  48|NOT AVAILABLE|      N|\n",
            "|-1.312389435E7|4020009.812| 16|23792621|KINDRED HOSPITAL ...|875 NORTH BREA BO...|           BREA|   CA|92621|NOT AVAILABLE| NOT AVAILABLE|GENERAL ACUTE CARE|  OPEN|        86|     ORANGE|      6059|    USA|33.93449589|-117.8939488|    622110|GENERAL MEDICAL A...|http://www.oshpd....|  8/2/2019 0:00|IMAGERY/OTHER|2/10/2014 0:00|http://www.kindre...|NOT AVAILABLE|       NOT AVAILABLE|      6|         PROPRIETARY|     -999|  86|NOT AVAILABLE|      N|\n",
            "|-1.313517181E7|3997094.337| 17|24392683|KINDRED HOSPITAL ...| 200 HOSPITAL CIRCLE|    WESTMINSTER|   CA|92683|NOT AVAILABLE| NOT AVAILABLE|GENERAL ACUTE CARE|  OPEN|       109|     ORANGE|      6059|    USA|33.76353321| -117.995256|    622110|GENERAL MEDICAL A...|http://www.oshpd....|  8/2/2019 0:00|IMAGERY/OTHER|2/10/2014 0:00|http://www.khwest...|NOT AVAILABLE|       NOT AVAILABLE|      6|         PROPRIETARY|     -999| 109|NOT AVAILABLE|      N|\n",
            "|-1.328578469E7|4344859.287| 18|22093277|KAWEAH DELTA MENT...|1100 SO. AKERS ST...|        VISALIA|   CA|93277|NOT AVAILABLE| NOT AVAILABLE|GENERAL ACUTE CARE|  OPEN|        63|     TULARE|      6107|    USA|36.32084395|-119.3482345|    622110|GENERAL MEDICAL A...|http://www.oshpd....|  8/2/2019 0:00|IMAGERY/OTHER|2/10/2014 0:00|http://www.kaweah...|NOT AVAILABLE|       NOT AVAILABLE|      6|GOVERNMENT - DIST...|     -999|  63|NOT AVAILABLE|      N|\n",
            "|  -9128761.231|3612671.462| 19| 1931537|CHARLTON MEMORIAL...|   2449 THIRD STREET|       FOLKSTON|   GA|31537|NOT AVAILABLE| NOT AVAILABLE|GENERAL ACUTE CARE|CLOSED|      -999|   CHARLTON|     13049|    USA|30.84527535|-82.00505739|    622110|GENERAL MEDICAL A...|http://167.193.14...|11/24/2012 0:00|IMAGERY/OTHER|2/10/2014 0:00|http://www.southc...|           14|       NOT AVAILABLE|     13|GOVERNMENT - DIST...|     -999|-999|NOT AVAILABLE|      Y|\n",
            "|-1.021851965E7|3504437.702| 20| 5870563|  DAUTERIVE HOSPITAL|    600 N LEWIS AVE.|     NEW IBERIA|   LA|70563|NOT AVAILABLE|(337) 365-7311|GENERAL ACUTE CARE|  OPEN|       103|     IBERIA|     22045|    USA|30.00690698|-91.79452385|    622110|GENERAL MEDICAL A...|http://new.dhh.lo...| 8/16/2019 0:00|IMAGERY/OTHER|2/10/2014 0:00|http://www.dauter...|NOT AVAILABLE|       NOT AVAILABLE|     22|         PROPRIETARY|     -999| 103|NOT AVAILABLE|      Y|\n",
            "+--------------+-----------+---+--------+--------------------+--------------------+---------------+-----+-----+-------------+--------------+------------------+------+----------+-----------+----------+-------+-----------+------------+----------+--------------------+--------------------+---------------+-------------+--------------+--------------------+-------------+--------------------+-------+--------------------+---------+----+-------------+-------+\n",
            "only showing top 20 rows\n",
            "\n"
          ],
          "name": "stdout"
        }
      ]
    },
    {
      "cell_type": "code",
      "metadata": {
        "id": "95fu_AYPIIx3"
      },
      "source": [
        ""
      ],
      "execution_count": null,
      "outputs": []
    },
    {
      "cell_type": "code",
      "metadata": {
        "id": "985Vl1dtmpVU"
      },
      "source": [
        "# Configure settings for RDS\n",
        "mode = \"append\"\n",
        "jdbc_url=\"jdbc:postgresql://capstone.cjj05msruqqh.us-east-2.rds.amazonaws.com:5432/capstone_db\"\n",
        "config = {\"user\":\"postgres\", \n",
        "          \"password\": \"yellow_team\", \n",
        "          \"driver\":\"org.postgresql.Driver\"}\n"
      ],
      "execution_count": null,
      "outputs": []
    },
    {
      "cell_type": "code",
      "metadata": {
        "id": "9yyZgvcUnaNN"
      },
      "source": [
        "# Write DataFrame to hosp_addr_df table in RDS\n",
        "\n",
        "hosp_addr_df.write.jdbc(url=jdbc_url, table='hosp_addr', mode=mode, properties=config)"
      ],
      "execution_count": null,
      "outputs": []
    },
    {
      "cell_type": "code",
      "metadata": {
        "id": "FVaXbMw9vGlR"
      },
      "source": [
        "# Write dataframe to billing_info table in RDS\n",
        "\n",
        "hosp_closures_df.write.jdbc(url=jdbc_url, table='hosp_closures', mode=mode, properties=config)"
      ],
      "execution_count": null,
      "outputs": []
    },
    {
      "cell_type": "code",
      "metadata": {
        "id": "9q6Bm3kAncqx"
      },
      "source": [
        "# Write dataframe to payment_info table in RDS\n",
        "\n",
        "hosp_metric_df.write.jdbc(url=jdbc_url, table='state_metrics', mode=mode, properties=config)"
      ],
      "execution_count": null,
      "outputs": []
    },
    {
      "cell_type": "code",
      "metadata": {
        "id": "urgJNbuJ2jm_"
      },
      "source": [
        "# Write dataframe to payment_info table in RDS\n",
        "\n",
        "svi_data_df.write.jdbc(url=jdbc_url, table='svi_data', mode=mode, properties=config)"
      ],
      "execution_count": null,
      "outputs": []
    },
    {
      "cell_type": "code",
      "metadata": {
        "id": "pfPC3KiA2ntW"
      },
      "source": [
        "# Write dataframe to payment_info table in RDS\n",
        "\n",
        "hospital_popup_df.write.jdbc(url=jdbc_url, table='hosp_popup', mode=mode, properties=config)"
      ],
      "execution_count": null,
      "outputs": []
    },
    {
      "cell_type": "code",
      "metadata": {
        "id": "aYpZUCBo4H-m"
      },
      "source": [
        "# Write dataframe to raw hospital data in RDS\n",
        "\n",
        "raw_hospital_data.write.jdbc(url=jdbc_url, table='raw_hospital_data', mode=mode, properties=config)"
      ],
      "execution_count": null,
      "outputs": []
    }
  ]
}